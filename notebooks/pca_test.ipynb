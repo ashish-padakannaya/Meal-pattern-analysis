{
 "cells": [
  {
   "cell_type": "code",
   "execution_count": 5,
   "metadata": {},
   "outputs": [],
   "source": [
    "import pandas as pd\n",
    "import numpy as np\n",
    "import matplotlib.pyplot as plt"
   ]
  },
  {
   "cell_type": "code",
   "execution_count": 82,
   "metadata": {},
   "outputs": [],
   "source": [
    "df = pd.read_csv('../test_features.csv').dropna()"
   ]
  },
  {
   "cell_type": "code",
   "execution_count": 10,
   "metadata": {},
   "outputs": [
    {
     "name": "stdout",
     "output_type": "stream",
     "text": [
      "/home/sujaygd/Desktop/CSE_572_DM/src/DM_dummy/notebooks\n"
     ]
    }
   ],
   "source": [
    "import os\n",
    "print(os.getcwd())"
   ]
  },
  {
   "cell_type": "code",
   "execution_count": 16,
   "metadata": {},
   "outputs": [
    {
     "data": {
      "text/html": [
       "<div>\n",
       "<style scoped>\n",
       "    .dataframe tbody tr th:only-of-type {\n",
       "        vertical-align: middle;\n",
       "    }\n",
       "\n",
       "    .dataframe tbody tr th {\n",
       "        vertical-align: top;\n",
       "    }\n",
       "\n",
       "    .dataframe thead th {\n",
       "        text-align: right;\n",
       "    }\n",
       "</style>\n",
       "<table border=\"1\" class=\"dataframe\">\n",
       "  <thead>\n",
       "    <tr style=\"text-align: right;\">\n",
       "      <th></th>\n",
       "      <th>patient_number</th>\n",
       "      <th>meal_number</th>\n",
       "      <th>Standard Deviation</th>\n",
       "      <th>Root Mean Square</th>\n",
       "      <th>fft_centroid</th>\n",
       "      <th>fft_variance</th>\n",
       "      <th>fft_skew</th>\n",
       "      <th>fft_curtosis</th>\n",
       "    </tr>\n",
       "  </thead>\n",
       "  <tbody>\n",
       "    <tr>\n",
       "      <td>0</td>\n",
       "      <td>1</td>\n",
       "      <td>0</td>\n",
       "      <td>67.847874</td>\n",
       "      <td>1.069121e+09</td>\n",
       "      <td>1.717585</td>\n",
       "      <td>11.349979</td>\n",
       "      <td>2.363172</td>\n",
       "      <td>8.002336</td>\n",
       "    </tr>\n",
       "    <tr>\n",
       "      <td>1</td>\n",
       "      <td>1</td>\n",
       "      <td>1</td>\n",
       "      <td>38.806658</td>\n",
       "      <td>9.157259e+09</td>\n",
       "      <td>0.457611</td>\n",
       "      <td>3.194659</td>\n",
       "      <td>5.479284</td>\n",
       "      <td>35.714629</td>\n",
       "    </tr>\n",
       "    <tr>\n",
       "      <td>2</td>\n",
       "      <td>1</td>\n",
       "      <td>2</td>\n",
       "      <td>59.379533</td>\n",
       "      <td>1.735139e+09</td>\n",
       "      <td>1.160440</td>\n",
       "      <td>8.131284</td>\n",
       "      <td>3.125502</td>\n",
       "      <td>12.494684</td>\n",
       "    </tr>\n",
       "    <tr>\n",
       "      <td>3</td>\n",
       "      <td>1</td>\n",
       "      <td>3</td>\n",
       "      <td>56.037393</td>\n",
       "      <td>6.719350e+08</td>\n",
       "      <td>1.640470</td>\n",
       "      <td>10.922316</td>\n",
       "      <td>2.396052</td>\n",
       "      <td>8.179821</td>\n",
       "    </tr>\n",
       "    <tr>\n",
       "      <td>4</td>\n",
       "      <td>1</td>\n",
       "      <td>4</td>\n",
       "      <td>16.824090</td>\n",
       "      <td>4.357782e+08</td>\n",
       "      <td>0.326781</td>\n",
       "      <td>2.123097</td>\n",
       "      <td>6.853901</td>\n",
       "      <td>55.819320</td>\n",
       "    </tr>\n",
       "    <tr>\n",
       "      <td>...</td>\n",
       "      <td>...</td>\n",
       "      <td>...</td>\n",
       "      <td>...</td>\n",
       "      <td>...</td>\n",
       "      <td>...</td>\n",
       "      <td>...</td>\n",
       "      <td>...</td>\n",
       "      <td>...</td>\n",
       "    </tr>\n",
       "    <tr>\n",
       "      <td>205</td>\n",
       "      <td>5</td>\n",
       "      <td>13</td>\n",
       "      <td>12.320892</td>\n",
       "      <td>4.830977e+08</td>\n",
       "      <td>0.830114</td>\n",
       "      <td>6.413703</td>\n",
       "      <td>3.608970</td>\n",
       "      <td>16.068489</td>\n",
       "    </tr>\n",
       "    <tr>\n",
       "      <td>206</td>\n",
       "      <td>5</td>\n",
       "      <td>14</td>\n",
       "      <td>34.300130</td>\n",
       "      <td>1.587319e+09</td>\n",
       "      <td>0.600182</td>\n",
       "      <td>3.961278</td>\n",
       "      <td>4.631386</td>\n",
       "      <td>25.997884</td>\n",
       "    </tr>\n",
       "    <tr>\n",
       "      <td>207</td>\n",
       "      <td>5</td>\n",
       "      <td>15</td>\n",
       "      <td>95.349934</td>\n",
       "      <td>2.283167e+09</td>\n",
       "      <td>1.973673</td>\n",
       "      <td>12.609287</td>\n",
       "      <td>2.147232</td>\n",
       "      <td>6.997694</td>\n",
       "    </tr>\n",
       "    <tr>\n",
       "      <td>208</td>\n",
       "      <td>5</td>\n",
       "      <td>16</td>\n",
       "      <td>45.598794</td>\n",
       "      <td>2.037213e+09</td>\n",
       "      <td>1.036235</td>\n",
       "      <td>7.360346</td>\n",
       "      <td>3.345630</td>\n",
       "      <td>14.092193</td>\n",
       "    </tr>\n",
       "    <tr>\n",
       "      <td>209</td>\n",
       "      <td>5</td>\n",
       "      <td>17</td>\n",
       "      <td>38.308818</td>\n",
       "      <td>1.098240e+09</td>\n",
       "      <td>1.395629</td>\n",
       "      <td>9.641820</td>\n",
       "      <td>2.666351</td>\n",
       "      <td>9.663494</td>\n",
       "    </tr>\n",
       "  </tbody>\n",
       "</table>\n",
       "<p>210 rows × 8 columns</p>\n",
       "</div>"
      ],
      "text/plain": [
       "     patient_number  meal_number  Standard Deviation  Root Mean Square  \\\n",
       "0                 1            0           67.847874      1.069121e+09   \n",
       "1                 1            1           38.806658      9.157259e+09   \n",
       "2                 1            2           59.379533      1.735139e+09   \n",
       "3                 1            3           56.037393      6.719350e+08   \n",
       "4                 1            4           16.824090      4.357782e+08   \n",
       "..              ...          ...                 ...               ...   \n",
       "205               5           13           12.320892      4.830977e+08   \n",
       "206               5           14           34.300130      1.587319e+09   \n",
       "207               5           15           95.349934      2.283167e+09   \n",
       "208               5           16           45.598794      2.037213e+09   \n",
       "209               5           17           38.308818      1.098240e+09   \n",
       "\n",
       "     fft_centroid  fft_variance  fft_skew  fft_curtosis  \n",
       "0        1.717585     11.349979  2.363172      8.002336  \n",
       "1        0.457611      3.194659  5.479284     35.714629  \n",
       "2        1.160440      8.131284  3.125502     12.494684  \n",
       "3        1.640470     10.922316  2.396052      8.179821  \n",
       "4        0.326781      2.123097  6.853901     55.819320  \n",
       "..            ...           ...       ...           ...  \n",
       "205      0.830114      6.413703  3.608970     16.068489  \n",
       "206      0.600182      3.961278  4.631386     25.997884  \n",
       "207      1.973673     12.609287  2.147232      6.997694  \n",
       "208      1.036235      7.360346  3.345630     14.092193  \n",
       "209      1.395629      9.641820  2.666351      9.663494  \n",
       "\n",
       "[210 rows x 8 columns]"
      ]
     },
     "execution_count": 16,
     "metadata": {},
     "output_type": "execute_result"
    }
   ],
   "source": []
  },
  {
   "cell_type": "code",
   "execution_count": 79,
   "metadata": {},
   "outputs": [],
   "source": [
    "from sklearn.preprocessing import StandardScaler \n",
    "sc = StandardScaler() "
   ]
  },
  {
   "cell_type": "code",
   "execution_count": 83,
   "metadata": {},
   "outputs": [
    {
     "data": {
      "text/plain": [
       "(208, 6)"
      ]
     },
     "execution_count": 83,
     "metadata": {},
     "output_type": "execute_result"
    }
   ],
   "source": [
    "df = df.iloc[:, 2:].values\n",
    "df\n",
    "df_normalized = sc.fit_transform(df)\n",
    "df_normalized.shape\n",
    "# df_normalized"
   ]
  },
  {
   "cell_type": "code",
   "execution_count": 25,
   "metadata": {},
   "outputs": [
    {
     "name": "stdout",
     "output_type": "stream",
     "text": [
      "0\n",
      "1\n",
      "2\n",
      "3\n",
      "4\n",
      "5\n",
      "6\n",
      "7\n"
     ]
    }
   ],
   "source": [
    "for i in range(df_normalized.shape[1]):\n",
    "    print(str(i))"
   ]
  },
  {
   "cell_type": "code",
   "execution_count": 55,
   "metadata": {},
   "outputs": [],
   "source": [
    "feature_dict = {0 : 'patient_number',\n",
    "                1 : 'meal_number',\n",
    "                2 : 'Standard Deviation',\n",
    "                3 : 'Root Mean Square',\n",
    "                4 : 'fft_centroid',\n",
    "                5 : 'fft_variance',\n",
    "                6 : 'fft_skew',\n",
    "                7 : 'fft_curtosis' }"
   ]
  },
  {
   "cell_type": "code",
   "execution_count": 86,
   "metadata": {},
   "outputs": [
    {
     "data": {
      "text/plain": [
       "['Standard Deviation',\n",
       " 'Root Mean Square',\n",
       " 'fft_centroid',\n",
       " 'fft_variance',\n",
       " 'fft_skew',\n",
       " 'fft_curtosis']"
      ]
     },
     "execution_count": 86,
     "metadata": {},
     "output_type": "execute_result"
    }
   ],
   "source": [
    "feature_cols = [feature_dict[i] for i in range(2, 2 + df_normalized.shape[1])]\n",
    "feature_cols"
   ]
  },
  {
   "cell_type": "code",
   "execution_count": 57,
   "metadata": {},
   "outputs": [
    {
     "data": {
      "text/html": [
       "<div>\n",
       "<style scoped>\n",
       "    .dataframe tbody tr th:only-of-type {\n",
       "        vertical-align: middle;\n",
       "    }\n",
       "\n",
       "    .dataframe tbody tr th {\n",
       "        vertical-align: top;\n",
       "    }\n",
       "\n",
       "    .dataframe thead th {\n",
       "        text-align: right;\n",
       "    }\n",
       "</style>\n",
       "<table border=\"1\" class=\"dataframe\">\n",
       "  <thead>\n",
       "    <tr style=\"text-align: right;\">\n",
       "      <th></th>\n",
       "      <th>Standard Deviation</th>\n",
       "      <th>Root Mean Square</th>\n",
       "      <th>fft_centroid</th>\n",
       "      <th>fft_variance</th>\n",
       "      <th>fft_skew</th>\n",
       "      <th>fft_curtosis</th>\n",
       "    </tr>\n",
       "  </thead>\n",
       "  <tbody>\n",
       "    <tr>\n",
       "      <td>0</td>\n",
       "      <td>1.920473</td>\n",
       "      <td>-0.050957</td>\n",
       "      <td>1.631480</td>\n",
       "      <td>1.451429</td>\n",
       "      <td>-1.138672</td>\n",
       "      <td>-0.877798</td>\n",
       "    </tr>\n",
       "    <tr>\n",
       "      <td>1</td>\n",
       "      <td>0.260172</td>\n",
       "      <td>5.563989</td>\n",
       "      <td>-1.138474</td>\n",
       "      <td>-0.987892</td>\n",
       "      <td>1.463642</td>\n",
       "      <td>1.259511</td>\n",
       "    </tr>\n",
       "    <tr>\n",
       "      <td>2</td>\n",
       "      <td>1.436334</td>\n",
       "      <td>0.411406</td>\n",
       "      <td>0.406640</td>\n",
       "      <td>0.488692</td>\n",
       "      <td>-0.502039</td>\n",
       "      <td>-0.531326</td>\n",
       "    </tr>\n",
       "    <tr>\n",
       "      <td>3</td>\n",
       "      <td>1.245262</td>\n",
       "      <td>-0.326692</td>\n",
       "      <td>1.461948</td>\n",
       "      <td>1.323512</td>\n",
       "      <td>-1.111214</td>\n",
       "      <td>-0.864110</td>\n",
       "    </tr>\n",
       "    <tr>\n",
       "      <td>4</td>\n",
       "      <td>-0.996582</td>\n",
       "      <td>-0.490637</td>\n",
       "      <td>-1.426093</td>\n",
       "      <td>-1.308405</td>\n",
       "      <td>2.611605</td>\n",
       "      <td>2.810084</td>\n",
       "    </tr>\n",
       "    <tr>\n",
       "      <td>...</td>\n",
       "      <td>...</td>\n",
       "      <td>...</td>\n",
       "      <td>...</td>\n",
       "      <td>...</td>\n",
       "      <td>...</td>\n",
       "      <td>...</td>\n",
       "    </tr>\n",
       "    <tr>\n",
       "      <td>203</td>\n",
       "      <td>-1.254032</td>\n",
       "      <td>-0.457787</td>\n",
       "      <td>-0.319555</td>\n",
       "      <td>-0.025050</td>\n",
       "      <td>-0.098287</td>\n",
       "      <td>-0.255697</td>\n",
       "    </tr>\n",
       "    <tr>\n",
       "      <td>204</td>\n",
       "      <td>0.002532</td>\n",
       "      <td>0.308786</td>\n",
       "      <td>-0.825042</td>\n",
       "      <td>-0.758590</td>\n",
       "      <td>0.755548</td>\n",
       "      <td>0.510107</td>\n",
       "    </tr>\n",
       "    <tr>\n",
       "      <td>205</td>\n",
       "      <td>3.492779</td>\n",
       "      <td>0.791858</td>\n",
       "      <td>2.194468</td>\n",
       "      <td>1.828098</td>\n",
       "      <td>-1.319008</td>\n",
       "      <td>-0.955281</td>\n",
       "    </tr>\n",
       "    <tr>\n",
       "      <td>206</td>\n",
       "      <td>0.648482</td>\n",
       "      <td>0.621112</td>\n",
       "      <td>0.133585</td>\n",
       "      <td>0.258098</td>\n",
       "      <td>-0.318206</td>\n",
       "      <td>-0.408118</td>\n",
       "    </tr>\n",
       "    <tr>\n",
       "      <td>207</td>\n",
       "      <td>0.231711</td>\n",
       "      <td>-0.030743</td>\n",
       "      <td>0.923684</td>\n",
       "      <td>0.940505</td>\n",
       "      <td>-0.885483</td>\n",
       "      <td>-0.749682</td>\n",
       "    </tr>\n",
       "  </tbody>\n",
       "</table>\n",
       "<p>208 rows × 6 columns</p>\n",
       "</div>"
      ],
      "text/plain": [
       "     Standard Deviation  Root Mean Square  fft_centroid  fft_variance  \\\n",
       "0              1.920473         -0.050957      1.631480      1.451429   \n",
       "1              0.260172          5.563989     -1.138474     -0.987892   \n",
       "2              1.436334          0.411406      0.406640      0.488692   \n",
       "3              1.245262         -0.326692      1.461948      1.323512   \n",
       "4             -0.996582         -0.490637     -1.426093     -1.308405   \n",
       "..                  ...               ...           ...           ...   \n",
       "203           -1.254032         -0.457787     -0.319555     -0.025050   \n",
       "204            0.002532          0.308786     -0.825042     -0.758590   \n",
       "205            3.492779          0.791858      2.194468      1.828098   \n",
       "206            0.648482          0.621112      0.133585      0.258098   \n",
       "207            0.231711         -0.030743      0.923684      0.940505   \n",
       "\n",
       "     fft_skew  fft_curtosis  \n",
       "0   -1.138672     -0.877798  \n",
       "1    1.463642      1.259511  \n",
       "2   -0.502039     -0.531326  \n",
       "3   -1.111214     -0.864110  \n",
       "4    2.611605      2.810084  \n",
       "..        ...           ...  \n",
       "203 -0.098287     -0.255697  \n",
       "204  0.755548      0.510107  \n",
       "205 -1.319008     -0.955281  \n",
       "206 -0.318206     -0.408118  \n",
       "207 -0.885483     -0.749682  \n",
       "\n",
       "[208 rows x 6 columns]"
      ]
     },
     "execution_count": 57,
     "metadata": {},
     "output_type": "execute_result"
    }
   ],
   "source": [
    "normalized_features = pd.DataFrame(df_normalized, columns = feature_cols)\n",
    "normalized_features"
   ]
  },
  {
   "cell_type": "code",
   "execution_count": 90,
   "metadata": {},
   "outputs": [
    {
     "data": {
      "text/plain": [
       "array([0.66148628, 0.19445578, 0.08670772, 0.05216369])"
      ]
     },
     "execution_count": 90,
     "metadata": {},
     "output_type": "execute_result"
    }
   ],
   "source": [
    "from sklearn.decomposition import PCA\n",
    "pca_func = PCA(n_components = 4)\n",
    "pca_features = pca_func.fit_transform(normalized_features)\n",
    "pca_features.shape\n",
    "pca_func.explained_variance_ratio_\n"
   ]
  },
  {
   "cell_type": "code",
   "execution_count": 65,
   "metadata": {},
   "outputs": [
    {
     "data": {
      "text/plain": [
       "array([[-0.34493304, -0.0092029 , -0.48168499, -0.46994419,  0.47692777,\n",
       "         0.44789333],\n",
       "       [ 0.44899821,  0.87163588, -0.04584911, -0.03946943,  0.1304281 ,\n",
       "         0.13408963],\n",
       "       [ 0.6316563 , -0.43347392,  0.20172356,  0.14215713,  0.32746899,\n",
       "         0.49494818],\n",
       "       [-0.52055538,  0.22192557,  0.38715213,  0.57227654,  0.20818135,\n",
       "         0.39880378]])"
      ]
     },
     "execution_count": 65,
     "metadata": {},
     "output_type": "execute_result"
    }
   ],
   "source": [
    "pca_func.components_"
   ]
  },
  {
   "cell_type": "code",
   "execution_count": 74,
   "metadata": {},
   "outputs": [
    {
     "data": {
      "text/html": [
       "<div>\n",
       "<style scoped>\n",
       "    .dataframe tbody tr th:only-of-type {\n",
       "        vertical-align: middle;\n",
       "    }\n",
       "\n",
       "    .dataframe tbody tr th {\n",
       "        vertical-align: top;\n",
       "    }\n",
       "\n",
       "    .dataframe thead th {\n",
       "        text-align: right;\n",
       "    }\n",
       "</style>\n",
       "<table border=\"1\" class=\"dataframe\">\n",
       "  <thead>\n",
       "    <tr style=\"text-align: right;\">\n",
       "      <th></th>\n",
       "      <th>Standard Deviation</th>\n",
       "      <th>Root Mean Square</th>\n",
       "      <th>fft_centroid</th>\n",
       "      <th>fft_variance</th>\n",
       "      <th>fft_skew</th>\n",
       "      <th>fft_curtosis</th>\n",
       "    </tr>\n",
       "  </thead>\n",
       "  <tbody>\n",
       "    <tr>\n",
       "      <td>PC-1</td>\n",
       "      <td>-0.344933</td>\n",
       "      <td>-0.009203</td>\n",
       "      <td>-0.481685</td>\n",
       "      <td>-0.469944</td>\n",
       "      <td>0.476928</td>\n",
       "      <td>0.447893</td>\n",
       "    </tr>\n",
       "    <tr>\n",
       "      <td>PC-2</td>\n",
       "      <td>0.448998</td>\n",
       "      <td>0.871636</td>\n",
       "      <td>-0.045849</td>\n",
       "      <td>-0.039469</td>\n",
       "      <td>0.130428</td>\n",
       "      <td>0.134090</td>\n",
       "    </tr>\n",
       "    <tr>\n",
       "      <td>PC-3</td>\n",
       "      <td>0.631656</td>\n",
       "      <td>-0.433474</td>\n",
       "      <td>0.201724</td>\n",
       "      <td>0.142157</td>\n",
       "      <td>0.327469</td>\n",
       "      <td>0.494948</td>\n",
       "    </tr>\n",
       "    <tr>\n",
       "      <td>PC-4</td>\n",
       "      <td>-0.520555</td>\n",
       "      <td>0.221926</td>\n",
       "      <td>0.387152</td>\n",
       "      <td>0.572277</td>\n",
       "      <td>0.208181</td>\n",
       "      <td>0.398804</td>\n",
       "    </tr>\n",
       "  </tbody>\n",
       "</table>\n",
       "</div>"
      ],
      "text/plain": [
       "      Standard Deviation  Root Mean Square  fft_centroid  fft_variance  \\\n",
       "PC-1           -0.344933         -0.009203     -0.481685     -0.469944   \n",
       "PC-2            0.448998          0.871636     -0.045849     -0.039469   \n",
       "PC-3            0.631656         -0.433474      0.201724      0.142157   \n",
       "PC-4           -0.520555          0.221926      0.387152      0.572277   \n",
       "\n",
       "      fft_skew  fft_curtosis  \n",
       "PC-1  0.476928      0.447893  \n",
       "PC-2  0.130428      0.134090  \n",
       "PC-3  0.327469      0.494948  \n",
       "PC-4  0.208181      0.398804  "
      ]
     },
     "execution_count": 74,
     "metadata": {},
     "output_type": "execute_result"
    }
   ],
   "source": [
    "pd.DataFrame(pca_func.components_,columns=normalized_features.columns,index = ['PC-1', 'PC-2', 'PC-3', 'PC-4'])"
   ]
  },
  {
   "cell_type": "code",
   "execution_count": 88,
   "metadata": {},
   "outputs": [],
   "source": [
    "feature_dict = {0 : 'patient_number',\n",
    "                1 : 'meal_number',\n",
    "                2 : 'Standard Deviation',\n",
    "                3 : 'Root Mean Square',\n",
    "                4 : 'fft_centroid',\n",
    "                5 : 'fft_variance',\n",
    "                6 : 'fft_skew',\n",
    "                7 : 'fft_curtosis' }"
   ]
  },
  {
   "cell_type": "code",
   "execution_count": 89,
   "metadata": {},
   "outputs": [
    {
     "data": {
      "text/plain": [
       "8"
      ]
     },
     "execution_count": 89,
     "metadata": {},
     "output_type": "execute_result"
    }
   ],
   "source": [
    "len(feature_dict)"
   ]
  }
 ],
 "metadata": {
  "kernelspec": {
   "display_name": "Python 3",
   "language": "python",
   "name": "python3"
  },
  "language_info": {
   "codemirror_mode": {
    "name": "ipython",
    "version": 3
   },
   "file_extension": ".py",
   "mimetype": "text/x-python",
   "name": "python",
   "nbconvert_exporter": "python",
   "pygments_lexer": "ipython3",
   "version": "3.7.4"
  }
 },
 "nbformat": 4,
 "nbformat_minor": 2
}
