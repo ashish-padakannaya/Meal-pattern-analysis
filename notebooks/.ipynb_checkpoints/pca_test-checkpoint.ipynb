{
 "cells": [
  {
   "cell_type": "code",
   "execution_count": 5,
   "metadata": {},
   "outputs": [],
   "source": [
    "import pandas as pd\n",
    "import numpy as np\n",
    "import matplotlib.pyplot as plt"
   ]
  },
  {
   "cell_type": "code",
   "execution_count": 41,
   "metadata": {},
   "outputs": [],
   "source": [
    "df = pd.read_csv('../test_features.csv')"
   ]
  },
  {
   "cell_type": "code",
   "execution_count": 10,
   "metadata": {},
   "outputs": [
    {
     "name": "stdout",
     "output_type": "stream",
     "text": [
      "/home/sujaygd/Desktop/CSE_572_DM/src/DM_dummy/notebooks\n"
     ]
    }
   ],
   "source": [
    "import os\n",
    "print(os.getcwd())"
   ]
  },
  {
   "cell_type": "code",
   "execution_count": 16,
   "metadata": {},
   "outputs": [
    {
     "data": {
      "text/html": [
       "<div>\n",
       "<style scoped>\n",
       "    .dataframe tbody tr th:only-of-type {\n",
       "        vertical-align: middle;\n",
       "    }\n",
       "\n",
       "    .dataframe tbody tr th {\n",
       "        vertical-align: top;\n",
       "    }\n",
       "\n",
       "    .dataframe thead th {\n",
       "        text-align: right;\n",
       "    }\n",
       "</style>\n",
       "<table border=\"1\" class=\"dataframe\">\n",
       "  <thead>\n",
       "    <tr style=\"text-align: right;\">\n",
       "      <th></th>\n",
       "      <th>patient_number</th>\n",
       "      <th>meal_number</th>\n",
       "      <th>Standard Deviation</th>\n",
       "      <th>Root Mean Square</th>\n",
       "      <th>fft_centroid</th>\n",
       "      <th>fft_variance</th>\n",
       "      <th>fft_skew</th>\n",
       "      <th>fft_curtosis</th>\n",
       "    </tr>\n",
       "  </thead>\n",
       "  <tbody>\n",
       "    <tr>\n",
       "      <td>0</td>\n",
       "      <td>1</td>\n",
       "      <td>0</td>\n",
       "      <td>67.847874</td>\n",
       "      <td>1.069121e+09</td>\n",
       "      <td>1.717585</td>\n",
       "      <td>11.349979</td>\n",
       "      <td>2.363172</td>\n",
       "      <td>8.002336</td>\n",
       "    </tr>\n",
       "    <tr>\n",
       "      <td>1</td>\n",
       "      <td>1</td>\n",
       "      <td>1</td>\n",
       "      <td>38.806658</td>\n",
       "      <td>9.157259e+09</td>\n",
       "      <td>0.457611</td>\n",
       "      <td>3.194659</td>\n",
       "      <td>5.479284</td>\n",
       "      <td>35.714629</td>\n",
       "    </tr>\n",
       "    <tr>\n",
       "      <td>2</td>\n",
       "      <td>1</td>\n",
       "      <td>2</td>\n",
       "      <td>59.379533</td>\n",
       "      <td>1.735139e+09</td>\n",
       "      <td>1.160440</td>\n",
       "      <td>8.131284</td>\n",
       "      <td>3.125502</td>\n",
       "      <td>12.494684</td>\n",
       "    </tr>\n",
       "    <tr>\n",
       "      <td>3</td>\n",
       "      <td>1</td>\n",
       "      <td>3</td>\n",
       "      <td>56.037393</td>\n",
       "      <td>6.719350e+08</td>\n",
       "      <td>1.640470</td>\n",
       "      <td>10.922316</td>\n",
       "      <td>2.396052</td>\n",
       "      <td>8.179821</td>\n",
       "    </tr>\n",
       "    <tr>\n",
       "      <td>4</td>\n",
       "      <td>1</td>\n",
       "      <td>4</td>\n",
       "      <td>16.824090</td>\n",
       "      <td>4.357782e+08</td>\n",
       "      <td>0.326781</td>\n",
       "      <td>2.123097</td>\n",
       "      <td>6.853901</td>\n",
       "      <td>55.819320</td>\n",
       "    </tr>\n",
       "    <tr>\n",
       "      <td>...</td>\n",
       "      <td>...</td>\n",
       "      <td>...</td>\n",
       "      <td>...</td>\n",
       "      <td>...</td>\n",
       "      <td>...</td>\n",
       "      <td>...</td>\n",
       "      <td>...</td>\n",
       "      <td>...</td>\n",
       "    </tr>\n",
       "    <tr>\n",
       "      <td>205</td>\n",
       "      <td>5</td>\n",
       "      <td>13</td>\n",
       "      <td>12.320892</td>\n",
       "      <td>4.830977e+08</td>\n",
       "      <td>0.830114</td>\n",
       "      <td>6.413703</td>\n",
       "      <td>3.608970</td>\n",
       "      <td>16.068489</td>\n",
       "    </tr>\n",
       "    <tr>\n",
       "      <td>206</td>\n",
       "      <td>5</td>\n",
       "      <td>14</td>\n",
       "      <td>34.300130</td>\n",
       "      <td>1.587319e+09</td>\n",
       "      <td>0.600182</td>\n",
       "      <td>3.961278</td>\n",
       "      <td>4.631386</td>\n",
       "      <td>25.997884</td>\n",
       "    </tr>\n",
       "    <tr>\n",
       "      <td>207</td>\n",
       "      <td>5</td>\n",
       "      <td>15</td>\n",
       "      <td>95.349934</td>\n",
       "      <td>2.283167e+09</td>\n",
       "      <td>1.973673</td>\n",
       "      <td>12.609287</td>\n",
       "      <td>2.147232</td>\n",
       "      <td>6.997694</td>\n",
       "    </tr>\n",
       "    <tr>\n",
       "      <td>208</td>\n",
       "      <td>5</td>\n",
       "      <td>16</td>\n",
       "      <td>45.598794</td>\n",
       "      <td>2.037213e+09</td>\n",
       "      <td>1.036235</td>\n",
       "      <td>7.360346</td>\n",
       "      <td>3.345630</td>\n",
       "      <td>14.092193</td>\n",
       "    </tr>\n",
       "    <tr>\n",
       "      <td>209</td>\n",
       "      <td>5</td>\n",
       "      <td>17</td>\n",
       "      <td>38.308818</td>\n",
       "      <td>1.098240e+09</td>\n",
       "      <td>1.395629</td>\n",
       "      <td>9.641820</td>\n",
       "      <td>2.666351</td>\n",
       "      <td>9.663494</td>\n",
       "    </tr>\n",
       "  </tbody>\n",
       "</table>\n",
       "<p>210 rows × 8 columns</p>\n",
       "</div>"
      ],
      "text/plain": [
       "     patient_number  meal_number  Standard Deviation  Root Mean Square  \\\n",
       "0                 1            0           67.847874      1.069121e+09   \n",
       "1                 1            1           38.806658      9.157259e+09   \n",
       "2                 1            2           59.379533      1.735139e+09   \n",
       "3                 1            3           56.037393      6.719350e+08   \n",
       "4                 1            4           16.824090      4.357782e+08   \n",
       "..              ...          ...                 ...               ...   \n",
       "205               5           13           12.320892      4.830977e+08   \n",
       "206               5           14           34.300130      1.587319e+09   \n",
       "207               5           15           95.349934      2.283167e+09   \n",
       "208               5           16           45.598794      2.037213e+09   \n",
       "209               5           17           38.308818      1.098240e+09   \n",
       "\n",
       "     fft_centroid  fft_variance  fft_skew  fft_curtosis  \n",
       "0        1.717585     11.349979  2.363172      8.002336  \n",
       "1        0.457611      3.194659  5.479284     35.714629  \n",
       "2        1.160440      8.131284  3.125502     12.494684  \n",
       "3        1.640470     10.922316  2.396052      8.179821  \n",
       "4        0.326781      2.123097  6.853901     55.819320  \n",
       "..            ...           ...       ...           ...  \n",
       "205      0.830114      6.413703  3.608970     16.068489  \n",
       "206      0.600182      3.961278  4.631386     25.997884  \n",
       "207      1.973673     12.609287  2.147232      6.997694  \n",
       "208      1.036235      7.360346  3.345630     14.092193  \n",
       "209      1.395629      9.641820  2.666351      9.663494  \n",
       "\n",
       "[210 rows x 8 columns]"
      ]
     },
     "execution_count": 16,
     "metadata": {},
     "output_type": "execute_result"
    }
   ],
   "source": []
  },
  {
   "cell_type": "code",
   "execution_count": 33,
   "metadata": {},
   "outputs": [],
   "source": [
    "from sklearn.preprocessing import StandardScaler \n",
    "sc = StandardScaler() "
   ]
  },
  {
   "cell_type": "code",
   "execution_count": 42,
   "metadata": {},
   "outputs": [
    {
     "data": {
      "text/plain": [
       "array([[ 1.92467874, -0.07732711,  1.63054415,  1.45245524, -1.13867248,\n",
       "        -0.87779833],\n",
       "       [ 0.26352065,  4.97226062, -1.10817343, -0.95915908,  1.46364156,\n",
       "         1.25951091],\n",
       "       [ 1.44028946,  0.33848126,  0.41951617,  0.50065321, -0.50203893,\n",
       "        -0.53132623],\n",
       "       ...,\n",
       "       [ 3.49779706,  0.6806264 ,  2.18718285,  1.82484578, -1.31900751,\n",
       "        -0.95528131],\n",
       "       [ 0.65203097,  0.52707238,  0.14954049,  0.27267877, -0.31820628,\n",
       "        -0.40811847],\n",
       "       [ 0.23504424, -0.05914785,  0.93072972,  0.94733448, -0.88548319,\n",
       "        -0.74968163]])"
      ]
     },
     "execution_count": 42,
     "metadata": {},
     "output_type": "execute_result"
    }
   ],
   "source": [
    "df = df.iloc[:, 2:8].values\n",
    "df\n",
    "df_normalized = sc.fit_transform(df)\n",
    "df_normalized.shape\n",
    "df_normalized"
   ]
  },
  {
   "cell_type": "code",
   "execution_count": 25,
   "metadata": {},
   "outputs": [
    {
     "name": "stdout",
     "output_type": "stream",
     "text": [
      "0\n",
      "1\n",
      "2\n",
      "3\n",
      "4\n",
      "5\n",
      "6\n",
      "7\n"
     ]
    }
   ],
   "source": [
    "for i in range(df_normalized.shape[1]):\n",
    "    print(str(i))"
   ]
  },
  {
   "cell_type": "code",
   "execution_count": null,
   "metadata": {},
   "outputs": [],
   "source": [
    "feature_dict = {0 : 'patient_number',\n",
    "                1 : 'meal_number',\n",
    "                2 : 'Standard Deviation',\n",
    "                3 : 'Root Mean Square',\n",
    "                4 : 'fft_centroid',\n",
    "                5 : 'fft_variance',\n",
    "                6 : 'fft_skew',\n",
    "                7 : 'fft_curtosis' }"
   ]
  }
 ],
 "metadata": {
  "kernelspec": {
   "display_name": "Python 3",
   "language": "python",
   "name": "python3"
  },
  "language_info": {
   "codemirror_mode": {
    "name": "ipython",
    "version": 3
   },
   "file_extension": ".py",
   "mimetype": "text/x-python",
   "name": "python",
   "nbconvert_exporter": "python",
   "pygments_lexer": "ipython3",
   "version": "3.7.4"
  }
 },
 "nbformat": 4,
 "nbformat_minor": 2
}
